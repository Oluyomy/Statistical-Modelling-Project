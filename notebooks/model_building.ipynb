{
 "cells": [
  {
   "attachments": {},
   "cell_type": "markdown",
   "metadata": {},
   "source": [
    "Build a regression model."
   ]
  },
  {
   "attachments": {},
   "cell_type": "markdown",
   "metadata": {},
   "source": [
    "I am creating a simple linear regression model.\n",
    "#Regression analysis is a series of statistical processes used to estimate the relationships between a dependent variable and various independent variables in statistical modeling. \n",
    "#Linear regression seeks the line that best matches the data according to a set of mathematical criteria.\n",
    "#In simple terms, it uses a straight line to define the relationship between two variables (one independent variable and dependent variable). \n",
    "#This is estimating the value of extra.slot variable based on the value of free_slot  variable.\n",
    "\n"
   ]
  },
  {
   "cell_type": "code",
   "execution_count": 1,
   "metadata": {},
   "outputs": [
    {
     "name": "stdout",
     "output_type": "stream",
     "text": [
      "Requirement already satisfied: statsmodels in c:\\users\\layin\\anaconda3\\envs\\test_env\\lib\\site-packages (0.14.0)\n",
      "Requirement already satisfied: numpy>=1.18 in c:\\users\\layin\\anaconda3\\envs\\test_env\\lib\\site-packages (from statsmodels) (1.25.0)\n",
      "Requirement already satisfied: scipy!=1.9.2,>=1.4 in c:\\users\\layin\\anaconda3\\envs\\test_env\\lib\\site-packages (from statsmodels) (1.11.0)\n",
      "Requirement already satisfied: pandas>=1.0 in c:\\users\\layin\\anaconda3\\envs\\test_env\\lib\\site-packages (from statsmodels) (2.0.2)\n",
      "Requirement already satisfied: patsy>=0.5.2 in c:\\users\\layin\\anaconda3\\envs\\test_env\\lib\\site-packages (from statsmodels) (0.5.3)\n",
      "Requirement already satisfied: packaging>=21.3 in c:\\users\\layin\\anaconda3\\envs\\test_env\\lib\\site-packages (from statsmodels) (22.0)\n",
      "Requirement already satisfied: python-dateutil>=2.8.2 in c:\\users\\layin\\anaconda3\\envs\\test_env\\lib\\site-packages (from pandas>=1.0->statsmodels) (2.8.2)\n",
      "Requirement already satisfied: pytz>=2020.1 in c:\\users\\layin\\anaconda3\\envs\\test_env\\lib\\site-packages (from pandas>=1.0->statsmodels) (2022.7)\n",
      "Requirement already satisfied: tzdata>=2022.1 in c:\\users\\layin\\anaconda3\\envs\\test_env\\lib\\site-packages (from pandas>=1.0->statsmodels) (2023.3)\n",
      "Requirement already satisfied: six in c:\\users\\layin\\anaconda3\\envs\\test_env\\lib\\site-packages (from patsy>=0.5.2->statsmodels) (1.16.0)\n"
     ]
    }
   ],
   "source": [
    "!pip install statsmodels\n"
   ]
  },
  {
   "cell_type": "code",
   "execution_count": 2,
   "metadata": {},
   "outputs": [],
   "source": [
    "import statsmodels.api as sm"
   ]
  },
  {
   "cell_type": "code",
   "execution_count": 3,
   "metadata": {},
   "outputs": [],
   "source": [
    "import numpy as np\n",
    "import pandas as pd"
   ]
  },
  {
   "cell_type": "code",
   "execution_count": 59,
   "metadata": {},
   "outputs": [],
   "source": [
    "totalcombined_df= pd.read_csv(r'C:\\Users\\layin\\OneDrive\\Desktop\\all_python\\citybike_folder\\file4.csv')\n",
    "\n"
   ]
  },
  {
   "cell_type": "code",
   "execution_count": 60,
   "metadata": {},
   "outputs": [
    {
     "data": {
      "text/plain": [
       "Index(['Unnamed: 0', 'empty_slots', 'free_bikes', 'id', 'latitude',\n",
       "       'longitude', 'name', 'timestamp', 'extra.ebikes', 'extra.has_ebikes',\n",
       "       'extra.last_updated', 'extra.payment', 'extra.payment-terminal',\n",
       "       'extra.renting', 'extra.returning', 'extra.slots', 'extra.uid',\n",
       "       'address', 'category_id', 'category_name', 'postcode', 'distance',\n",
       "       'review_count', 'rating'],\n",
       "      dtype='object')"
      ]
     },
     "execution_count": 60,
     "metadata": {},
     "output_type": "execute_result"
    }
   ],
   "source": [
    "totalcombined_df.columns"
   ]
  },
  {
   "cell_type": "code",
   "execution_count": 61,
   "metadata": {},
   "outputs": [
    {
     "data": {
      "text/plain": [
       "(3455, 24)"
      ]
     },
     "execution_count": 61,
     "metadata": {},
     "output_type": "execute_result"
    }
   ],
   "source": [
    "totalcombined_df.shape"
   ]
  },
  {
   "cell_type": "code",
   "execution_count": 63,
   "metadata": {},
   "outputs": [
    {
     "data": {
      "text/plain": [
       "<bound method DataFrame.info of       Unnamed: 0  empty_slots  free_bikes                                id  \\\n",
       "0              0          9.0        10.0  553ed0300d38108b4f21a6bafa3db70c   \n",
       "1              1         31.0         1.0  93542dcbf21f5411569adb92cd7cc199   \n",
       "2              2         12.0         3.0  d9c7ef5dbda4ed944d1bf51fe540acb6   \n",
       "3              3         12.0         2.0  0568389e659e679fbe29a5ac12cd49c0   \n",
       "4              4          4.0        11.0  47b79abc28a54d0e4689b1096ceb8466   \n",
       "...          ...          ...         ...                               ...   \n",
       "3450        8723          NaN         NaN                               NaN   \n",
       "3451        8724          NaN         NaN                               NaN   \n",
       "3452        8726          NaN         NaN                               NaN   \n",
       "3453        8728          NaN         NaN                               NaN   \n",
       "3454        8769          NaN         NaN                               NaN   \n",
       "\n",
       "       latitude  longitude                                               name  \\\n",
       "0     42.386781 -71.006098  Orient Heights T Stop - Bennington St at Sarat...   \n",
       "1     42.368844 -71.039778                       Maverick Square - Lewis Mall   \n",
       "2     42.369536 -71.039431  East Boston Neighborhood Health Center - 20 Ma...   \n",
       "3     42.383533 -71.016191                          Bennington St at Byron St   \n",
       "4     42.373312 -71.041020                        Boston East - 126 Border St   \n",
       "...         ...        ...                                                ...   \n",
       "3450  42.425519 -71.042745                                  Ultra Spicy House   \n",
       "3451  42.425274 -71.044689                                   Cajun crab shack   \n",
       "3452  42.424804 -71.042441                     Giovannis Roast Beef and Pizza   \n",
       "3453  42.425379 -71.043037                                           Pho Deli   \n",
       "3454  42.373507 -71.120718                 Bluestone Lane Harvard Square Café   \n",
       "\n",
       "                        timestamp  extra.ebikes extra.has_ebikes  ...  \\\n",
       "0     2023-07-03T14:26:34.669000Z           0.0             True  ...   \n",
       "1     2023-07-03T14:26:34.672000Z           0.0             True  ...   \n",
       "2     2023-07-03T14:26:34.673000Z           0.0             True  ...   \n",
       "3     2023-07-03T14:26:34.673000Z           0.0             True  ...   \n",
       "4     2023-07-03T14:26:34.676000Z           0.0             True  ...   \n",
       "...                           ...           ...              ...  ...   \n",
       "3450                          NaN           NaN              NaN  ...   \n",
       "3451                          NaN           NaN              NaN  ...   \n",
       "3452                          NaN           NaN              NaN  ...   \n",
       "3453                          NaN           NaN              NaN  ...   \n",
       "3454                          NaN           NaN              NaN  ...   \n",
       "\n",
       "      extra.returning extra.slots extra.uid        address  category_id  \\\n",
       "0                 1.0        19.0     217.0            NaN          NaN   \n",
       "1                 1.0        33.0     212.0            NaN          NaN   \n",
       "2                 1.0        16.0     213.0            NaN          NaN   \n",
       "3                 1.0        15.0     210.0            NaN          NaN   \n",
       "4                 1.0        15.0     219.0            NaN          NaN   \n",
       "...               ...         ...       ...            ...          ...   \n",
       "3450              NaN         NaN       NaN    60 Broadway          NaN   \n",
       "3451              NaN         NaN       NaN    52 Broadway          NaN   \n",
       "3452              NaN         NaN       NaN    42 Broadway          NaN   \n",
       "3453              NaN         NaN       NaN    60 Broadway          NaN   \n",
       "3454              NaN         NaN       NaN  27 Brattle St          NaN   \n",
       "\n",
       "      category_name  postcode     distance  review_count rating  \n",
       "0               NaN       NaN          NaN           NaN    NaN  \n",
       "1               NaN       NaN          NaN           NaN    NaN  \n",
       "2               NaN       NaN          NaN           NaN    NaN  \n",
       "3               NaN       NaN          NaN           NaN    NaN  \n",
       "4               NaN       NaN          NaN           NaN    NaN  \n",
       "...             ...       ...          ...           ...    ...  \n",
       "3450        Chinese    2148.0   592.746131          18.0    3.0  \n",
       "3451   Cajun/Creole    2148.0   556.594453           2.0    4.0  \n",
       "3452          Salad    2148.0   493.948914          61.0    3.5  \n",
       "3453     Vietnamese    2148.0   573.299237           3.0    4.5  \n",
       "3454   Coffee & Tea    2138.0  1183.840515         129.0    3.5  \n",
       "\n",
       "[3455 rows x 24 columns]>"
      ]
     },
     "execution_count": 63,
     "metadata": {},
     "output_type": "execute_result"
    }
   ],
   "source": [
    "totalcombined_df.info"
   ]
  },
  {
   "cell_type": "code",
   "execution_count": 64,
   "metadata": {},
   "outputs": [],
   "source": [
    "\n",
    "import statsmodels.api as sm"
   ]
  },
  {
   "cell_type": "code",
   "execution_count": 76,
   "metadata": {},
   "outputs": [
    {
     "name": "stdout",
     "output_type": "stream",
     "text": [
      "                            OLS Regression Results                            \n",
      "==============================================================================\n",
      "Dep. Variable:                 rating   R-squared:                       0.013\n",
      "Model:                            OLS   Adj. R-squared:                  0.013\n",
      "Method:                 Least Squares   F-statistic:                     57.44\n",
      "Date:                Mon, 03 Jul 2023   Prob (F-statistic):           1.65e-25\n",
      "Time:                        14:20:06   Log-Likelihood:                -9967.0\n",
      "No. Observations:                8793   AIC:                         1.994e+04\n",
      "Df Residuals:                    8790   BIC:                         1.996e+04\n",
      "Df Model:                           2                                         \n",
      "Covariance Type:            nonrobust                                         \n",
      "================================================================================\n",
      "                   coef    std err          t      P>|t|      [0.025      0.975]\n",
      "--------------------------------------------------------------------------------\n",
      "const            3.8460      0.017    221.609      0.000       3.812       3.880\n",
      "review_count     0.0002   1.47e-05     10.427      0.000       0.000       0.000\n",
      "distance      7.389e-05   2.89e-05      2.560      0.010    1.73e-05       0.000\n",
      "==============================================================================\n",
      "Omnibus:                     5021.118   Durbin-Watson:                   1.284\n",
      "Prob(Omnibus):                  0.000   Jarque-Bera (JB):            48597.403\n",
      "Skew:                          -2.611   Prob(JB):                         0.00\n",
      "Kurtosis:                      13.265   Cond. No.                     1.59e+03\n",
      "==============================================================================\n",
      "\n",
      "Notes:\n",
      "[1] Standard Errors assume that the covariance matrix of the errors is correctly specified.\n",
      "[2] The condition number is large, 1.59e+03. This might indicate that there are\n",
      "strong multicollinearity or other numerical problems.\n"
     ]
    }
   ],
   "source": [
    "#A linear regression model using rating and review count as dependent and independent variable.\n",
    "yelp_df = pd.read_csv(r'C:\\Users\\layin\\OneDrive\\Desktop\\all_python\\3dataframenew\\file3.csv')\n",
    "import pandas as pd\n",
    "import statsmodels.api as sm\n",
    "\n",
    "# Load the CSV file into a DataFrame\n",
    "data = pd.read_csv(r'C:\\Users\\layin\\OneDrive\\Desktop\\all_python\\3dataframenew\\file3.csv')\n",
    "# Select the columns for the analysis\n",
    "selected_columns =['review_count','distance']\n",
    "\n",
    "# Convert selected columns to numeric type\n",
    "data[selected_columns] = data[selected_columns].apply(pd.to_numeric, errors='coerce')\n",
    "# Drop rows with missing values\n",
    "data = data.dropna(subset=selected_columns)\n",
    "\n",
    "# Check if there are enough remaining rows for analysis\n",
    "if len(data) > 0:\n",
    "    # Create the feature matrix X and the target variable y\n",
    "    X = data[selected_columns]\n",
    "    y = data['rating']\n",
    "\n",
    "    # Add a constant to the feature matrix\n",
    "    X = sm.add_constant(X)\n",
    "\n",
    "    # Perform the linear regression analysis using OLS\n",
    "    model = sm.OLS(y, X)\n",
    "    results = model.fit()\n",
    "    print(results.summary())\n",
    "else:\n",
    "    print(\"Insufficient data for analysis.\")"
   ]
  },
  {
   "attachments": {},
   "cell_type": "markdown",
   "metadata": {},
   "source": [
    "#the coefficient of distance, has its p-value less than 0.05 so we will remove it. \n",
    "The R squared value shows that there is only 13% variation of the rating that can be explained by the linear regression model using the selected features. this implies that this might not be the best model fit to capture a significant portion of the variance on the tergeted variable(rating).."
   ]
  },
  {
   "cell_type": "code",
   "execution_count": 52,
   "metadata": {},
   "outputs": [
    {
     "name": "stdout",
     "output_type": "stream",
     "text": [
      "                            OLS Regression Results                            \n",
      "==============================================================================\n",
      "Dep. Variable:            extra.slots   R-squared:                       0.969\n",
      "Model:                            OLS   Adj. R-squared:                  0.968\n",
      "Method:                 Least Squares   F-statistic:                     3483.\n",
      "Date:                Mon, 03 Jul 2023   Prob (F-statistic):               0.00\n",
      "Time:                        00:40:26   Log-Likelihood:                -578.32\n",
      "No. Observations:                 455   AIC:                             1167.\n",
      "Df Residuals:                     450   BIC:                             1187.\n",
      "Df Model:                           4                                         \n",
      "Covariance Type:            nonrobust                                         \n",
      "===================================================================================\n",
      "                      coef    std err          t      P>|t|      [0.025      0.975]\n",
      "-----------------------------------------------------------------------------------\n",
      "free_bikes          1.0018      0.011     91.480      0.000       0.980       1.023\n",
      "latitude           -0.6973      0.904     -0.772      0.441      -2.473       1.078\n",
      "empty_slots         0.9907      0.009    106.785      0.000       0.972       1.009\n",
      "extra.uid          -0.0007      0.000     -2.891      0.004      -0.001      -0.000\n",
      "extra.returning    15.1901     19.142      0.794      0.428     -22.429      52.809\n",
      "extra.renting      15.1901     19.142      0.794      0.428     -22.429      52.809\n",
      "==============================================================================\n",
      "Omnibus:                      234.899   Durbin-Watson:                   2.098\n",
      "Prob(Omnibus):                  0.000   Jarque-Bera (JB):             1574.975\n",
      "Skew:                           2.166   Prob(JB):                         0.00\n",
      "Kurtosis:                      11.020   Cond. No.                     1.88e+21\n",
      "==============================================================================\n",
      "\n",
      "Notes:\n",
      "[1] Standard Errors assume that the covariance matrix of the errors is correctly specified.\n",
      "[2] The smallest eigenvalue is 1.66e-35. This might indicate that there are\n",
      "strong multicollinearity problems or that the design matrix is singular.\n"
     ]
    }
   ],
   "source": [
    "# A Linear regresion model was built to determine the correllation between extra.slots  of bike and  and free_bikes stations in Boston.\n",
    "import pandas as pd\n",
    "import statsmodels.api as sm\n",
    "import numpy as np\n",
    "\n",
    "# Load the CSV file into a DataFrame\n",
    "data2 = pd.read_csv(r'C:\\Users\\layin\\OneDrive\\Desktop\\all_python\\3dataframe folder\\file.csv')\n",
    "\n",
    "# Select the columns for the analysis\n",
    "selected_columns = ['free_bikes', 'latitude','empty_slots','extra.uid','extra.returning','extra.renting'] # Replace with the actual column names\n",
    "\n",
    "# Convert selected columns to numeric type\n",
    "data2[selected_columns] = data2[selected_columns].apply(pd.to_numeric, errors='coerce')\n",
    "\n",
    "# Drop rows with missing values\n",
    "data2 = data2.dropna(subset=selected_columns)\n",
    "\n",
    "# Create the feature matrix X and the target variable y\n",
    "X = data2[selected_columns]\n",
    "y = data2['extra.slots']  # Replace 'target_column' with the actual target column name\n",
    "\n",
    "# Add a constant to the feature matrix\n",
    "X = sm.add_constant(X)\n",
    "\n",
    "# Perform the linear regression analysis using OLS\n",
    "model = sm.OLS(y, X)\n",
    "results = model.fit()\n",
    "print(results.summary())\n"
   ]
  },
  {
   "attachments": {},
   "cell_type": "markdown",
   "metadata": {},
   "source": [
    "Provide model output and an interpretation of the results. "
   ]
  },
  {
   "attachments": {},
   "cell_type": "markdown",
   "metadata": {},
   "source": [
    "The R squared indicate that approximately 96.9% of the variation  of the targeted variable( extra.slots of bike stations), can be  explained  by this linear regression model using all this selected features\n",
    "(free_bikes', 'latitude','empty_slots','extra.uid','extra.returning','extra.renting). This implies that the model fits the data  well and is able to capture a significant portion of variance on the target variable.\n",
    "Adjusted R  with 96.8% value futher takes into account the no of predictors (features)in the model and adjust the R Squaed value accordingly.\n",
    "The p-value of latitude  is 0.441,and this p-value  > 0.05 will still be removed from the model, the same goes with  extra.returning and extra.renting with values 0.428.\n",
    "\n",
    "Overall , all these suggested that there is a strong  significant  relationship between  thefeatures selected  and the targeted variable in this Linear Regression Model."
   ]
  },
  {
   "attachments": {},
   "cell_type": "markdown",
   "metadata": {},
   "source": [
    "# Stretch"
   ]
  },
  {
   "attachments": {},
   "cell_type": "markdown",
   "metadata": {},
   "source": [
    "How can you turn the regression model into a classification model?"
   ]
  },
  {
   "attachments": {},
   "cell_type": "markdown",
   "metadata": {},
   "source": [
    "To convert a linear regression model into a classification model, I can do the following:\n",
    "\n",
    "Train your linear regression model using the desired features and target variable.\n",
    "Obtain the predicted values from the regression model.\n",
    "Choose a threshold value that will separate the predicted values into classes. This threshold is determined based on analyzing the distribution of predicted values.\n",
    "Create a new target variable by applying a binary classification based on the threshold. Assign a value of 1 to instances where the predicted value is above the threshold, and a value of 0 to instances below or equal to the threshold.\n",
    "Train the logistic classification model, using the same features and the new binary target variable."
   ]
  },
  {
   "cell_type": "code",
   "execution_count": null,
   "metadata": {},
   "outputs": [],
   "source": [
    "#layout of my approach in converting a linear regression into classification model.\n",
    "import pandas as pd\n",
    "from sklearn.linear_model import LinearRegression\n",
    "from sklearn.linear_model import LogisticRegression\n",
    "\n",
    "# Load the dataset into a DataFrame\n",
    "data = pd.read_csv(r'C:\\Users\\layin\\OneDrive\\Desktop\\all_python\\3dataframe folder\\file.csv')\n",
    "\n",
    "# Define the features and target variable\n",
    "features = ['free_bikes', 'latitude','empty_slots','extra.uid','extra.returning','extra.renting']\n",
    "target = 'extra.slots'\n",
    "\n",
    "# Train the linear regression model\n",
    "regression_model = LinearRegression()\n",
    "regression_model.fit(data[features], data[target])\n",
    "\n",
    "# Get the predicted values from the regression model\n",
    "predicted_values = regression_model.predict(data[features])\n",
    "\n",
    "# Choose a threshold value\n",
    "threshold = 0.5\n",
    "\n",
    "# Create a binary target variable based on the threshold\n",
    "data['binary_target'] = (predicted_values > threshold).astype(int)\n",
    "#binary_target\n",
    "# Train a classification model using logistic regression\n",
    "classification_model = LogisticRegression()\n",
    "classification_model.fit(data[features], data['binary_target'])\n"
   ]
  }
 ],
 "metadata": {
  "kernelspec": {
   "display_name": "Python 3",
   "language": "python",
   "name": "python3"
  },
  "language_info": {
   "codemirror_mode": {
    "name": "ipython",
    "version": 3
   },
   "file_extension": ".py",
   "mimetype": "text/x-python",
   "name": "python",
   "nbconvert_exporter": "python",
   "pygments_lexer": "ipython3",
   "version": "3.10.11"
  }
 },
 "nbformat": 4,
 "nbformat_minor": 4
}
